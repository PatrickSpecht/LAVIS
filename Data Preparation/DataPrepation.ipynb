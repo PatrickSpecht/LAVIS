{
 "cells": [
  {
   "cell_type": "code",
   "execution_count": 1,
   "metadata": {},
   "outputs": [],
   "source": [
    "import numpy as np\n",
    "import pandas as pd\n",
    "import datetime as dt"
   ]
  },
  {
   "cell_type": "code",
   "execution_count": 2,
   "metadata": {},
   "outputs": [],
   "source": [
    "#Anlaufdaten importieren\n",
    "calls = pd.read_excel(r'calls.xlsx')\n",
    "\n",
    "#Irrelevante Features entfernen\n",
    "calls = calls[calls.Schiffstyp != 'Kahn']\n",
    "calls = calls.rename(columns={'Ankunft(soll)':'ETA','Ankunft':'ATA','Abfahrt(soll)':'ETD', 'Abfahrt':'ATD'})\n",
    "calls = calls.drop(['Importreise','Exportreise','Schiffstyp'],axis=1)\n",
    "\n",
    "#Lösche alle Reihen ohne Löschdaten\n",
    "calls = calls[calls.Löschbeginn != 'no information available']\n",
    "calls.dropna(subset=['Löschbeginn','Löschende','ATA'],inplace= True)\n",
    "\n",
    "#Zeitangaben in datetime umwandeln\n",
    "calls[['ETA','ATA','Löschbeginn','Löschende','Ladebeginn','Ladeende','ETD','ATD']]=calls[['ETA','ATA','Löschbeginn','Löschende','Ladebeginn','Ladeende','ETD','ATD']].apply(pd.to_datetime, dayfirst=True)"
   ]
  },
  {
   "cell_type": "code",
   "execution_count": 3,
   "metadata": {},
   "outputs": [],
   "source": [
    "#Flottendaten importieren\n",
    "fleet = pd.read_excel(r'fleet.xlsx')\n",
    "\n",
    "#Flotte aufräumen\n",
    "fleet = fleet.rename(columns={'CALL_SIGN':'Funkcode'})\n",
    "fleet = fleet.drop(['DWT','BAUJAHR','SHIPNAME','ImoNr'], axis=1)"
   ]
  },
  {
   "cell_type": "code",
   "execution_count": 4,
   "metadata": {},
   "outputs": [],
   "source": [
    "#Klimadaten (Tageswerte) importieren und bereinigen\n",
    "winddata = pd.read_excel(r'weather.xlsx', sheet_name=\"wind\")\n",
    "winddata = winddata.drop(['STATIONS_ID', 'eor', 'QN_3'], axis=1)\n",
    "raindata = pd.read_excel(r'weather.xlsx', sheet_name=\"rain\")\n",
    "raindata = raindata.drop(['STATIONS_ID', 'eor', 'QN_8'], axis=1)\n",
    "temperaturedata = pd.read_excel(r'weather.xlsx', sheet_name=\"temperature\")\n",
    "temperaturedata = temperaturedata.drop(['STATIONS_ID', 'eor', 'QN_9'], axis=1)\n",
    "visibilitydata = pd.read_excel(r'weather.xlsx', sheet_name=\"visibility\")\n",
    "visibilitydata = visibilitydata.drop(['STATIONS_ID', 'eor', 'V_VV_I', 'QN_8'], axis=1)\n",
    "\n",
    "#Klimadaten mergen\n",
    "weather = pd.merge(winddata, raindata, on='MESS_DATUM')\n",
    "weather = pd.merge(weather, temperaturedata, on='MESS_DATUM')\n",
    "weather = pd.merge(weather, visibilitydata, on='MESS_DATUM')\n",
    "weather['MESS_DATUM']= weather['MESS_DATUM'].apply(pd.to_datetime, format=\"%Y%m%d%H\")\n",
    "weather= weather.set_index('MESS_DATUM')"
   ]
  },
  {
   "cell_type": "code",
   "execution_count": 5,
   "metadata": {},
   "outputs": [],
   "source": [
    "#Anlaufdaten und Flottendaten mergen\n",
    "total = pd.merge(calls, fleet, on='Funkcode')\n",
    "\n",
    "#Klassifikation der Anläufe ermitteln\n",
    "def vessel_classification(data):\n",
    "    if data <= 1499:\n",
    "        return('Small')\n",
    "    elif (data >= 1500) & (data < 4999): \n",
    "        return('Medium')\n",
    "    elif (data >= 5000) & (data < 10999): \n",
    "        return('Large')\n",
    "    elif (data >= 11000) & (data < 17999): \n",
    "        return('VeryLarge')\n",
    "    else: \n",
    "        return('UltraLarge')\n",
    "classifier = list(map(vessel_classification, total['TEU']))\n",
    "total.insert(11, value=classifier, column=\"Vessel_Class\")"
   ]
  },
  {
   "cell_type": "code",
   "execution_count": 6,
   "metadata": {},
   "outputs": [],
   "source": [
    "#Wetterbeobachtungen für jeden Anlauf ermitteln\n",
    "def mean_temp(data1, data2):\n",
    "    slice = weather.truncate(before=data1, after=data2)\n",
    "    mean = slice['   F'].mean()\n",
    "    return mean\n",
    "\n",
    "def mean_rainfall(data1, data2):\n",
    "    slice = weather.truncate(before=data1, after=data2)\n",
    "    mean = slice['  R1'].mean()\n",
    "    return mean\n",
    "\n",
    "def mean_temperature(data1, data2):\n",
    "    slice = weather.truncate(before=data1, after=data2)\n",
    "    mean = slice['TT_TU'].mean()\n",
    "    return mean\n",
    "\n",
    "def mean_visibility(data1, data2):\n",
    "    slice = weather.truncate(before=data1, after=data2)\n",
    "    mean = slice['V_VV'].mean()\n",
    "    return mean\n",
    "\n",
    "windspeed = list(map(mean_temp, total['ATA'], total['ATD']))\n",
    "total.insert(15, value=windspeed, column=\"AVG_WINDSPEED\")\n",
    "\n",
    "rainfall = list(map(mean_rainfall, total['ATA'], total['ATD']))\n",
    "total.insert(16, value=rainfall, column=\"AVG_RAINFALL\")\n",
    "\n",
    "temperature = list(map(mean_temperature, total['ATA'], total['ATD']))\n",
    "total.insert(17, value=temperature, column=\"AVG_TEMPERATURE\")\n",
    "\n",
    "visibility = list(map(mean_visibility, total['ATA'], total['ATD']))\n",
    "total.insert(18, value=temperature, column=\"AVG_VISIBILITY\")"
   ]
  },
  {
   "cell_type": "code",
   "execution_count": 7,
   "metadata": {},
   "outputs": [],
   "source": [
    "#Löschdauer berechnen\n",
    "def timedelta_minutes(value):\n",
    "    days, seconds = value.days, value.seconds\n",
    "    minutes = (days * 1440) + (seconds/ 60)\n",
    "    return int(minutes)\n",
    "total['Unloading']=(total['Löschende']-total['Löschbeginn'])\n",
    "total['UNLOADING_mt']= total['Unloading'].apply(timedelta_minutes)\n",
    "total = total.drop(['Unloading'],axis=1)\n",
    "\n",
    "#Lösche negative Löschdauern durch falsche Eingaben\n",
    "total.drop(total[total.UNLOADING_mt <= 0].index, axis=0, inplace=True)\n",
    "\n",
    "#Vorbereitungszeit berechnen\n",
    "total['setup']=(total['Löschbeginn']-total['ATA'])\n",
    "total['SETUP_mt']= total['setup'].apply(timedelta_minutes)\n",
    "total = total.drop(['setup'],axis=1)\n",
    "\n",
    "#Setze negative Vorbereitungszeiten auf null\n",
    "total['SETUP_mt'] = total.SETUP_mt.clip(lower=0)\n",
    "\n",
    "#Zeit von \"angelegt bis Ende Entladen\" berechnen\n",
    "total['UNLOADING_TOTAL'] = total['SETUP_mt']+total['UNLOADING_mt']\n",
    "\n",
    "#Zeit von \"Entladeende bis Abfahrt\" berechnen\n",
    "total['UNLOAD_TO_DEP']=(total['ATD']-total['Löschende'])\n",
    "total['UNLOAD_TO_DEP_mt']= total['UNLOAD_TO_DEP'].apply(timedelta_minutes)\n",
    "total = total.drop(['UNLOAD_TO_DEP'],axis=1)\n"
   ]
  },
  {
   "cell_type": "code",
   "execution_count": 8,
   "metadata": {},
   "outputs": [],
   "source": [
    "#Gesamtliste speichern\n",
    "total.to_excel(r'masterlist_total.xlsx')"
   ]
  },
  {
   "cell_type": "code",
   "execution_count": 9,
   "metadata": {},
   "outputs": [],
   "source": [
    "#Extrakt für Vorhersagemodelle speichern\n",
    "extrakt = total[['Terminal','TEU', 'Länge','Tiefgang','Breite','AVG_WINDSPEED', 'AVG_RAINFALL', 'AVG_VISIBILITY','AVG_TEMPERATURE', 'UNLOADING_TOTAL', 'SETUP_mt', 'UNLOADING_mt']]\n",
    "extrakt.to_excel(r'..\\Vorhersagemodelle\\masterlist_total_extrakt.xlsx')"
   ]
  },
  {
   "cell_type": "code",
   "execution_count": null,
   "metadata": {},
   "outputs": [],
   "source": []
  },
  {
   "cell_type": "code",
   "execution_count": null,
   "metadata": {},
   "outputs": [],
   "source": []
  },
  {
   "cell_type": "code",
   "execution_count": null,
   "metadata": {},
   "outputs": [],
   "source": []
  },
  {
   "cell_type": "code",
   "execution_count": null,
   "metadata": {},
   "outputs": [],
   "source": []
  },
  {
   "cell_type": "code",
   "execution_count": null,
   "metadata": {},
   "outputs": [],
   "source": []
  }
 ],
 "metadata": {
  "kernelspec": {
   "display_name": "Python 3",
   "language": "python",
   "name": "python3"
  },
  "language_info": {
   "codemirror_mode": {
    "name": "ipython",
    "version": 3
   },
   "file_extension": ".py",
   "mimetype": "text/x-python",
   "name": "python",
   "nbconvert_exporter": "python",
   "pygments_lexer": "ipython3",
   "version": "3.8.5"
  }
 },
 "nbformat": 4,
 "nbformat_minor": 2
}
